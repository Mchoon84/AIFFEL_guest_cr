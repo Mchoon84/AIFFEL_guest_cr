{
 "cells": [
  {
   "cell_type": "markdown",
   "id": "1d7db4e3",
   "metadata": {},
   "source": [
    "## 세그멘테이션 모델 비교 분석 보고서\n",
    "#### 개요\n",
    "이 보고서는 세 가지 세그멘테이션 모델(UNet, EncoderDecoder, Vgg16UNet)의 성능을 비교 분석합니다. 각 모델의 학습 결과, 손실 함수 그래프, meanIoU 메트릭, 시각화 결과를 종합적으로 평가하여 세그멘테이션 작업에 가장 적합한 모델을 제시합니다.\n",
    "#### 모델 아키텍처 요약\n",
    "- **UNet**: 인코더-디코더 구조의 U자형 네트워크로, 스킵 커넥션을 활용하여 세그멘테이션 작업에 널리 사용됨\n",
    "- **EncoderDecoder**: 기본적인 인코더-디코더 구조로, 스킵 커넥션 없이 정보를 압축하고 복원하는 구조\n",
    "- **Vgg16UNet**: VGG16 네트워크를 인코더로 활용한 UNet 구조로, 사전 학습된 가중치를 활용하여 세그멘테이션 성능 향상 도모\n",
    "#### 성능 지표 비교\n",
    "- **Mean IoU (Intersection over Union)**\n",
    "  - UNet: 0.9428\n",
    "  - EncoderDecoder: 0.4771\n",
    "  - Vgg16UNet: 0.6578\n",
    "- **최종 학습 손실 (10 에포크)**\n",
    "  - UNet: 0.6503 (dice_loss: 0.4966)\n",
    "  - EncoderDecoder: 0.8504 (dice_loss: 0.6374)\n",
    "  - Vgg16UNet: 0.3262 (dice_loss: 0.2388)\n",
    "- **최종 검증 손실 (10 에포크 후)**\n",
    "  - UNet: 0.8857 (val_dice_loss: 0.6197)\n",
    "  - EncoderDecoder: 1.0138 (val_dice_loss: 0.8071)\n",
    "  - Vgg16UNet: 0.5755 (val_dice_loss: 0.4395)\n",
    "#### 주요 발견 사항\n",
    "- UNet 모델이 가장 높은 meanIoU 값(0.9428)을 보여 세그멘테이션 경계를 가장 정확하게 예측함\n",
    "- Vgg16UNet 모델은 가장 낮은 학습 및 검증 손실을 기록하였으나, meanIoU 측면에서는 UNet보다 낮은 성능을 보임\n",
    "- EncoderDecoder 모델은 세 모델 중 가장 낮은 성능을 보여 스킵 커넥션의 중요성을 시사함\n",
    "- 모든 모델은 학습 과정에서 과적합 징후를 보였으며, 특히 Vgg16UNet에서 에포크 4에서 높은 검증 손실(4.1213)이 관찰됨\n",
    "#### 결론\n",
    "세그멘테이션 작업에서 UNet 모델이 meanIoU 기준으로 가장 우수한 성능을 보였습니다. 스킵 커넥션을 활용한 아키텍처가 세그멘테이션 경계를 보존하는 데 효과적임을 확인할 수 있었습니다. Vgg16UNet은 사전 학습된 가중치를 활용하여 손실 함수 측면에서 좋은 성능을 보였으나, 실제 세그멘테이션 품질(meanIoU)에서는 단순한 UNet 구조보다 낮은 성능을 보였습니다.\n",
    "\n",
    "- 세그멘테이션 정확도가 가장 중요한 응용에는 UNet 모델을 권장함\n",
    "- 더 많은 학습 데이터와 에포크를 통해 Vgg16UNet은 더 나아지지 않을까?\n",
    "- 데이터 증강 및 정규화 기법을 적용하여 과적합 문제 완화 필요\n",
    "\n",
    "\n",
    "\n"
   ]
  }
 ],
 "metadata": {
  "kernelspec": {
   "display_name": "Python 3 (ipykernel)",
   "language": "python",
   "name": "python3"
  },
  "language_info": {
   "codemirror_mode": {
    "name": "ipython",
    "version": 3
   },
   "file_extension": ".py",
   "mimetype": "text/x-python",
   "name": "python",
   "nbconvert_exporter": "python",
   "pygments_lexer": "ipython3",
   "version": "3.9.7"
  }
 },
 "nbformat": 4,
 "nbformat_minor": 5
}
