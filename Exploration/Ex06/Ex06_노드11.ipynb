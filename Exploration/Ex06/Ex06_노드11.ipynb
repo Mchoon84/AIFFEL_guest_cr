{
  "nbformat": 4,
  "nbformat_minor": 0,
  "metadata": {
    "colab": {
      "provenance": [],
      "gpuType": "T4",
      "include_colab_link": true
    },
    "kernelspec": {
      "name": "python3",
      "display_name": "Python 3"
    },
    "language_info": {
      "name": "python"
    },
    "accelerator": "GPU"
  },
  "cells": [
    {
      "cell_type": "markdown",
      "metadata": {
        "id": "view-in-github",
        "colab_type": "text"
      },
      "source": [
        "<a href=\"https://colab.research.google.com/github/Mchoon84/AIFFEL_guest_cr/blob/main/Exploration/Ex06/Ex06_%EB%85%B8%EB%93%9C11.ipynb\" target=\"_parent\"><img src=\"https://colab.research.google.com/assets/colab-badge.svg\" alt=\"Open In Colab\"/></a>"
      ]
    },
    {
      "cell_type": "markdown",
      "source": [
        "# 모델 준비하기\n",
        "✅ Diffusers를 설치"
      ],
      "metadata": {
        "id": "k6tlqvVHxOyu"
      }
    },
    {
      "cell_type": "code",
      "execution_count": null,
      "metadata": {
        "id": "ontMJlrITAra"
      },
      "outputs": [],
      "source": [
        "!pip install --upgrade -qq git+https://github.com/huggingface/diffusers.git transformers accelerate\n",
        "# !pip install -U triton\n"
      ]
    },
    {
      "cell_type": "code",
      "source": [
        "import diffusers\n",
        "print(diffusers.__version__)\n"
      ],
      "metadata": {
        "id": "tIfAYMHFxKHj"
      },
      "execution_count": null,
      "outputs": []
    },
    {
      "cell_type": "markdown",
      "source": [
        "# Text-to-Image Generation\n",
        "✅ 파이프라인 불러오기"
      ],
      "metadata": {
        "id": "uRfX8H3SfRCN"
      }
    },
    {
      "cell_type": "code",
      "source": [
        "import torch\n",
        "from diffusers import DiffusionPipeline, DPMSolverMultistepScheduler\n",
        "\n",
        "device = \"cuda\"\n",
        "\n",
        "# 파이프라인 불러오기\n",
        "repo_id = \"stabilityai/stable-diffusion-2-base\"\n",
        "pipe = DiffusionPipeline.from_pretrained(repo_id, torch_dtype=torch.float16)\n",
        "\n",
        "pipe.scheduler = DPMSolverMultistepScheduler.from_config(pipe.scheduler.config)\n",
        "pipe = pipe.to(device)"
      ],
      "metadata": {
        "id": "PgbNbaaGTD1p"
      },
      "execution_count": null,
      "outputs": []
    },
    {
      "cell_type": "markdown",
      "source": [
        "✅ 프롬프트 입력  \n",
        "\n",
        "Positive Prompt:  \n",
        "\n",
        "a self-portrait of Vincent van Gogh wearing a detailed futuristic astronaut suit, surreal cosmic background with swirling nebulae and stars, post-impressionist brush stroke texture, expressive and introspective face, vibrant Van Gogh color palette, dramatic galactic lighting, digital oil painting, high detail, 8K resolution, cinematic depth, fusion of classic and sci-fi, textured canvas style, masterpiece, trending on ArtStation"
      ],
      "metadata": {
        "id": "rpvlxzBfgCUV"
      }
    },
    {
      "cell_type": "code",
      "source": [
        "prompt = str(input('prompt: '))  # 프롬프트를 영어로 입력해보세요"
      ],
      "metadata": {
        "id": "szUOmeoST7Y4"
      },
      "execution_count": null,
      "outputs": []
    },
    {
      "cell_type": "code",
      "source": [
        "# 입력한 프롬프트를 사용하여 이미지 생성\n",
        "image = pipe(prompt, num_inference_steps=25).images[0]\n",
        "\n",
        "# 이미지 출력\n",
        "image"
      ],
      "metadata": {
        "id": "_XEnwvzZT_3g"
      },
      "execution_count": null,
      "outputs": []
    },
    {
      "cell_type": "markdown",
      "source": [
        "✅ 하이퍼파라미터를 변화\n",
        "\n",
        "- height, width: 생성될 이미지의 가로와 세로 픽셀 크기를 조절할 수 있습니다. 8의 배수로 설정해 주세요.\n",
        "- num_inference_steps: denoising 스텝 수로, 값이 커질수록 고해상도 이미지가 출력되지만 출력되는 시간이 오래 걸립니다. default 값은 50입니다.\n",
        "- guidance_scale: 얼마나 주어진 프롬프트에 근접한 이미지를 생성할지를 설정하는 하이퍼파라미터로, 값이 커질수록 문자열에 근접한 이미지가 생성되지만 이미지 품질이 떨어질 수 있습니다. default는 7.5입니다.\n",
        "\n",
        "\n",
        "\n"
      ],
      "metadata": {
        "id": "rmpvilvpoySq"
      }
    },
    {
      "cell_type": "markdown",
      "source": [
        "### 실험 1 : 이미지 사이즈 변화\n",
        "- 크기가 작으면 결과가 더 잘나올거 같음\n",
        "- 프롬프트 동일하게 크기만 변경"
      ],
      "metadata": {
        "id": "QCFEFoUyZA66"
      }
    },
    {
      "cell_type": "code",
      "source": [
        "# ===== 사용자 지정 하이퍼파라미터 =====\n",
        "HEIGHT  = 320   # 8의 배수\n",
        "WIDTH   = 320   # 8의 배수\n",
        "STEPS   = 50    # num_inference_steps (기본 50)\n",
        "GUIDANCE = 7.5  # guidance_scale (기본 7.5)\n",
        "# ====================================\n"
      ],
      "metadata": {
        "id": "qlpB-lCVXFRF"
      },
      "execution_count": 14,
      "outputs": []
    },
    {
      "cell_type": "code",
      "source": [
        "prompt = str(input('prompt: '))  # 프롬프트를 영어로 입력해보세요"
      ],
      "metadata": {
        "id": "vov8RpONXfdF"
      },
      "execution_count": null,
      "outputs": []
    },
    {
      "cell_type": "code",
      "source": [
        "image = pipe(\n",
        "    prompt,\n",
        "    height=HEIGHT,\n",
        "    width=WIDTH,\n",
        "    num_inference_steps=STEPS,\n",
        "    guidance_scale=GUIDANCE\n",
        ").images[0]\n",
        "\n",
        "# 이미지 출력\n",
        "image"
      ],
      "metadata": {
        "id": "ndYniMTBXPKD"
      },
      "execution_count": null,
      "outputs": []
    },
    {
      "cell_type": "markdown",
      "source": [
        "### 실험 2 : 스텝수 변경\n",
        "- 50 에서 100 으로 변경\n",
        "- 고해상도 이미지를 만들어보자\n"
      ],
      "metadata": {
        "id": "elcW9AwpbmRI"
      }
    },
    {
      "cell_type": "code",
      "source": [
        "# ===== 사용자 지정 하이퍼파라미터 =====\n",
        "HEIGHT  = 320   # 8의 배수\n",
        "WIDTH   = 320   # 8의 배수\n",
        "STEPS   = 100    # num_inference_steps (기본 50)\n",
        "GUIDANCE = 7.5  # guidance_scale (기본 7.5)\n",
        "# ====================================\n"
      ],
      "metadata": {
        "id": "p6gNn9CIb_wZ"
      },
      "execution_count": 28,
      "outputs": []
    },
    {
      "cell_type": "code",
      "source": [
        "prompt = str(input('prompt: '))  # 프롬프트를 영어로 입력해보세요"
      ],
      "metadata": {
        "id": "ri3eofWmcByQ"
      },
      "execution_count": null,
      "outputs": []
    },
    {
      "cell_type": "code",
      "source": [
        "image = pipe(\n",
        "    prompt,\n",
        "    height=HEIGHT,\n",
        "    width=WIDTH,\n",
        "    num_inference_steps=STEPS,\n",
        "    guidance_scale=GUIDANCE\n",
        ").images[0]\n",
        "\n",
        "# 이미지 출력\n",
        "image"
      ],
      "metadata": {
        "id": "WZrQScBffZj6"
      },
      "execution_count": null,
      "outputs": []
    },
    {
      "cell_type": "markdown",
      "source": [
        "✅ 해삳도를 높이니, 그림이 사진처럼 되어버림   \n",
        "✅ 반 고흐 사진에 그림 마스크를 합성한 느낌"
      ],
      "metadata": {
        "id": "QMv-bkABcmDk"
      }
    },
    {
      "cell_type": "markdown",
      "source": [
        "### 실험 3 : guidance_scale 하향 조정\n",
        "- 2 정도로 조정\n",
        "- 프롬프트와 상관없는 이미지 생성 목적"
      ],
      "metadata": {
        "id": "2HHkd-UIdLi0"
      }
    },
    {
      "cell_type": "code",
      "source": [
        "# ===== 사용자 지정 하이퍼파라미터 =====\n",
        "HEIGHT  = 320   # 8의 배수\n",
        "WIDTH   = 320   # 8의 배수\n",
        "STEPS   = 50    # num_inference_steps (기본 50)\n",
        "GUIDANCE = 2  # guidance_scale (기본 7.5)\n",
        "# ====================================\n"
      ],
      "metadata": {
        "id": "WMJys17sdoa3"
      },
      "execution_count": 35,
      "outputs": []
    },
    {
      "cell_type": "code",
      "source": [
        "prompt = str(input('prompt: '))  # 프롬프트를 영어로 입력해보세요"
      ],
      "metadata": {
        "id": "3bpznGygdxpn"
      },
      "execution_count": null,
      "outputs": []
    },
    {
      "cell_type": "code",
      "source": [
        "image = pipe(\n",
        "    prompt,\n",
        "    height=HEIGHT,\n",
        "    width=WIDTH,\n",
        "    num_inference_steps=STEPS,\n",
        "    guidance_scale=GUIDANCE\n",
        ").images[0]\n",
        "\n",
        "# 이미지 출력\n",
        "image"
      ],
      "metadata": {
        "id": "YWLB1sQLd1QO"
      },
      "execution_count": null,
      "outputs": []
    },
    {
      "cell_type": "markdown",
      "source": [
        "✅ 전혀 상관없는 품질이 떨어지는 그림이 나옴"
      ],
      "metadata": {
        "id": "aTTPks77eVwb"
      }
    },
    {
      "cell_type": "markdown",
      "source": [
        "# 여러 개의 이미지 생성하기\n",
        "\n",
        "파이썬 라이브러리인 pillow를 사용"
      ],
      "metadata": {
        "id": "_wtD4Axce0AY"
      }
    },
    {
      "cell_type": "code",
      "source": [
        "# 파이썬 이미지 처리 라이브러리 pillow 불러오기\n",
        "from PIL import Image\n",
        "\n",
        "# 틀 만들기\n",
        "def image_grid(imgs, rows, cols):\n",
        "    assert len(imgs) == rows * cols\n",
        "\n",
        "    w, h = imgs[0].size\n",
        "    grid = Image.new('RGB', size=(cols * w, rows * h))\n",
        "    grid_w, grid_h = grid.size\n",
        "\n",
        "    for i, img in enumerate(imgs):\n",
        "        grid.paste(img, box = (i%cols * w, i // cols * h))\n",
        "    return grid"
      ],
      "metadata": {
        "id": "hHBIhwXufAJy"
      },
      "execution_count": 45,
      "outputs": []
    },
    {
      "cell_type": "code",
      "source": [
        "# ===== 사용자 지정 하이퍼파라미터 =====\n",
        "HEIGHT  = 320   # 8의 배수\n",
        "WIDTH   = 320   # 8의 배수\n",
        "STEPS   = 50    # num_inference_steps (기본 50)\n",
        "GUIDANCE = 7.5  # guidance_scale (기본 7.5)\n",
        "# ===================================="
      ],
      "metadata": {
        "id": "tEhV-Q2bgbFQ"
      },
      "execution_count": 49,
      "outputs": []
    },
    {
      "cell_type": "code",
      "source": [
        "# 이미지의 개수\n",
        "num_images = 6\n",
        "\n",
        "# 프롬프트 입력\n",
        "prompt = \"a self-portrait of Vincent van Gogh wearing a detailed futuristic astronaut helmet\"\n",
        "prompts = [prompt] * num_images\n",
        "\n",
        "# 이미지 생성\n",
        "images = [pipe(\n",
        "    prompt,\n",
        "    height=HEIGHT,\n",
        "    width=WIDTH,\n",
        "    num_inference_steps=STEPS,\n",
        "    guidance_scale=GUIDANCE\n",
        ").images[0] for _ in range(num_images)]\n",
        "\n",
        "# 이미지 출력\n",
        "grid = image_grid(images, rows= 3, cols= 2)\n",
        "grid"
      ],
      "metadata": {
        "id": "fxaKJL4CgofF"
      },
      "execution_count": null,
      "outputs": []
    },
    {
      "cell_type": "markdown",
      "source": [
        "✅ 처음에는 쓸만한게 없었는데 계속 돌리다 보니 괜찮은 이미지가 생성  \n",
        "✅ 같은 프롬프트를 써서 여러장의 이미지를 출력하는 것이 하나의 이미지를 생성 하는 것 보다 선택의 폭이 넓어짐"
      ],
      "metadata": {
        "id": "oSF4XGldj5qw"
      }
    }
  ]
}